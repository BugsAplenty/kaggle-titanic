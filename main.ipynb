{
 "cells": [
  {
   "cell_type": "markdown",
   "source": [
    "# Titanic - A Kaggle Submission\n",
    "## By Michael Neiman"
   ],
   "metadata": {
    "collapsed": false,
    "pycharm": {
     "name": "#%% md\n"
    }
   }
  },
  {
   "cell_type": "code",
   "execution_count": 84,
   "outputs": [],
   "source": [
    "import warnings\n",
    "warnings.filterwarnings('ignore')"
   ],
   "metadata": {
    "collapsed": false,
    "pycharm": {
     "name": "#%%\n"
    }
   }
  },
  {
   "cell_type": "markdown",
   "source": [
    "## 0. Data Import"
   ],
   "metadata": {
    "collapsed": false,
    "pycharm": {
     "name": "#%% md\n"
    }
   }
  },
  {
   "cell_type": "code",
   "execution_count": 85,
   "outputs": [],
   "source": [
    "import pandas as pd\n",
    "\n",
    "X_test = pd.read_csv('titanic_test.csv', header=0)\n",
    "X_train = pd.read_csv('titanic_train.csv', header=0)\n",
    "y_train = X_train.pop('survived')\n",
    "y_train = pd.to_numeric(y_train, errors='coerce')"
   ],
   "metadata": {
    "collapsed": false,
    "pycharm": {
     "name": "#%%\n"
    }
   }
  },
  {
   "cell_type": "markdown",
   "source": [
    "## 1. Data Preprocessing\n",
    "\n",
    "Let's first create copies of the data:"
   ],
   "metadata": {
    "collapsed": false,
    "pycharm": {
     "name": "#%% md\n"
    }
   }
  },
  {
   "cell_type": "code",
   "execution_count": 86,
   "outputs": [],
   "source": [
    "# Create copies of the data:\n",
    "X_train_preprocessed = X_train.copy()\n",
    "X_test_preprocessed = X_test.copy()"
   ],
   "metadata": {
    "collapsed": false,
    "pycharm": {
     "name": "#%%\n"
    }
   }
  },
  {
   "cell_type": "markdown",
   "source": [
    "### 1.1. Dropping Irrelevant or hard to use data:\n",
    "\n",
    "We will remove the following columns:\n",
    "- passenger_id\n",
    "- name\n",
    "- ticket\n",
    "- cabin (might use later)\n",
    "- home.dest"
   ],
   "metadata": {
    "collapsed": false,
    "pycharm": {
     "name": "#%% md\n"
    }
   }
  },
  {
   "cell_type": "code",
   "execution_count": 87,
   "outputs": [],
   "source": [
    "def drop_irrelevant_columns(df: pd.DataFrame):\n",
    "    df.drop(['passenger_id', 'name', 'ticket', 'cabin', 'embarked', 'boat', 'home.dest'], axis=1)\n",
    "    return df\n",
    "\n",
    "X_test_preprocessed = X_test_preprocessed.drop(columns = ['passenger_id', 'name', 'ticket', 'cabin', 'home.dest'])\n",
    "X_train_preprocessed = X_train_preprocessed.drop(columns = ['passenger_id', 'name', 'ticket', 'cabin', 'home.dest'])"
   ],
   "metadata": {
    "collapsed": false,
    "pycharm": {
     "name": "#%%\n"
    }
   }
  },
  {
   "cell_type": "markdown",
   "source": [
    "### 1.2. Using an ordinal encoder on the \"sex\" column:"
   ],
   "metadata": {
    "collapsed": false,
    "pycharm": {
     "name": "#%% md\n"
    }
   }
  },
  {
   "cell_type": "code",
   "execution_count": 88,
   "outputs": [],
   "source": [
    "from sklearn.preprocessing import OrdinalEncoder\n",
    "\n",
    "ordinal_encoder = OrdinalEncoder()\n",
    "X_train_preprocessed['sex'] = ordinal_encoder.fit_transform(X_train_preprocessed[['sex']])\n",
    "X_test_preprocessed['sex'] = ordinal_encoder.transform(X_test_preprocessed[['sex']])"
   ],
   "metadata": {
    "collapsed": false,
    "pycharm": {
     "name": "#%%\n"
    }
   }
  },
  {
   "cell_type": "markdown",
   "source": [
    "### 1.3. Using a \"One-hot\" encoder on the boat numbers and ports of embarkation:"
   ],
   "metadata": {
    "collapsed": false,
    "pycharm": {
     "name": "#%% md\n"
    }
   }
  },
  {
   "cell_type": "code",
   "execution_count": 89,
   "outputs": [],
   "source": [
    "X_preprocessed_total = pd.concat([X_train_preprocessed, X_test_preprocessed], axis=0)\n",
    "\n",
    "embark_one_hot = pd.get_dummies(X_preprocessed_total['embarked'], prefix='embarked')\n",
    "boat_one_hot = pd.get_dummies(X_preprocessed_total['boat'], prefix='boat')\n",
    "\n",
    "X_train_preprocessed[embark_one_hot.columns] = embark_one_hot.iloc[0:X_train_preprocessed.shape[0]-1, :]\n",
    "X_train_preprocessed[boat_one_hot.columns] = boat_one_hot.iloc[0:X_train_preprocessed.shape[0]-1, :]\n",
    "X_test_preprocessed[embark_one_hot.columns] = embark_one_hot.iloc[0:X_test_preprocessed.shape[0]-1, :]\n",
    "X_test_preprocessed[boat_one_hot.columns] = boat_one_hot.iloc[0:X_test_preprocessed.shape[0]-1, :]\n",
    "\n",
    "X_train_preprocessed = X_train_preprocessed.drop(['embarked', 'boat'], axis=1)\n",
    "X_test_preprocessed = X_test_preprocessed.drop(['embarked', 'boat'], axis=1)"
   ],
   "metadata": {
    "collapsed": false,
    "pycharm": {
     "name": "#%%\n"
    }
   }
  },
  {
   "cell_type": "markdown",
   "source": [
    "### 1.4. Replacing the \"body\" variable:\n",
    "\n",
    "The order of the bodies bears no significance and might hinder the performance of our model. Thus, we change it to \"1\" if a number exists and \"0\" if it doesn't."
   ],
   "metadata": {
    "collapsed": false,
    "pycharm": {
     "name": "#%% md\n"
    }
   }
  },
  {
   "cell_type": "code",
   "execution_count": 90,
   "outputs": [],
   "source": [
    "def preprocess_body(data: pd.DataFrame):\n",
    "    data['body'][data['body'].notna()] = 1\n",
    "    data['body'][data['body'].isna()] = 0\n",
    "    return data\n",
    "\n",
    "X_train_preprocessed = preprocess_body(X_train_preprocessed)\n",
    "X_test_preprocessed = preprocess_body(X_test_preprocessed)"
   ],
   "metadata": {
    "collapsed": false,
    "pycharm": {
     "name": "#%%\n"
    }
   }
  },
  {
   "cell_type": "markdown",
   "source": [
    "\n",
    "### 1.5. Imputing columns with missing data:"
   ],
   "metadata": {
    "collapsed": false,
    "pycharm": {
     "name": "#%% md\n"
    }
   }
  },
  {
   "cell_type": "code",
   "execution_count": 91,
   "outputs": [],
   "source": [
    "from sklearn.impute import SimpleImputer\n",
    "\n",
    "imp = SimpleImputer()\n",
    "X_train_imputed = pd.DataFrame(imp.fit_transform(X_train_preprocessed))\n",
    "X_test_imputed = pd.DataFrame(imp.fit_transform(X_test_preprocessed))\n",
    "\n",
    "X_train_imputed.columns = X_train_preprocessed.columns\n",
    "X_test_imputed.columns = X_test_preprocessed.columns\n",
    "\n",
    "X_train_preprocessed = X_train_imputed\n",
    "X_test_preprocessed = X_test_imputed"
   ],
   "metadata": {
    "collapsed": false,
    "pycharm": {
     "name": "#%%\n"
    }
   }
  },
  {
   "cell_type": "markdown",
   "source": [
    "**_TODO 1:_**  There might be added value in marking some of the missing values as such.\n",
    "**_TODO 2:_**  The cabin data needs to be parsed, it is a good indicator of passenger location at the moment of disaster."
   ],
   "metadata": {
    "collapsed": false,
    "pycharm": {
     "name": "#%% md\n"
    }
   }
  },
  {
   "cell_type": "markdown",
   "source": [
    "### 1.6. Scaling the numeric data:"
   ],
   "metadata": {
    "collapsed": false,
    "pycharm": {
     "name": "#%% md\n"
    }
   }
  },
  {
   "cell_type": "code",
   "execution_count": 92,
   "outputs": [],
   "source": [
    "from sklearn.preprocessing import StandardScaler\n",
    "\n",
    "scaler= StandardScaler().fit(pd.concat([X_train_preprocessed, X_test_preprocessed], axis=0))\n",
    "\n",
    "X_train_scaled = pd.DataFrame(scaler.transform(X_train_preprocessed), columns=X_train_preprocessed.columns)\n",
    "X_test_scaled = pd.DataFrame(scaler.transform(X_test_preprocessed), columns=X_test_preprocessed.columns)\n",
    "\n",
    "X_train_preprocessed = X_train_scaled\n",
    "X_test_preprocessed = X_test_scaled"
   ],
   "metadata": {
    "collapsed": false,
    "pycharm": {
     "name": "#%%\n"
    }
   }
  },
  {
   "cell_type": "markdown",
   "source": [
    "## 2. Training.\n",
    "Now let's try out some ML techniques which we've encountered:"
   ],
   "metadata": {
    "collapsed": false,
    "pycharm": {
     "name": "#%% md\n"
    }
   }
  },
  {
   "cell_type": "markdown",
   "source": [
    "### 2.1. Training the data on some different classifiers:\n",
    "\n",
    "We will use the following models for comparison:\n",
    "- XGBoost\n",
    "- Decision Tree\n",
    "- Random Forest\n",
    "- Logistic Regression"
   ],
   "metadata": {
    "collapsed": false,
    "pycharm": {
     "name": "#%% md\n"
    }
   }
  },
  {
   "cell_type": "code",
   "execution_count": 93,
   "outputs": [],
   "source": [
    "from sklearn.ensemble import RandomForestClassifier\n",
    "from sklearn.tree import DecisionTreeClassifier\n",
    "from xgboost import XGBClassifier\n",
    "from sklearn.linear_model import LogisticRegression\n",
    "\n",
    "logistic_regressor = LogisticRegression(random_state=0).fit(X_train_preprocessed, y_train)\n",
    "xgb_classifier = XGBClassifier(eval_metric='logloss', random_state=0).fit(X_train_preprocessed, y_train) # eval_metric is specifically mentioned in order to prevent warnings from popping up.\n",
    "tree_classifier = DecisionTreeClassifier(random_state=0).fit(X_train_preprocessed, y_train)\n",
    "random_forest_classifier = RandomForestClassifier(random_state=0).fit(X_train_preprocessed, y_train)"
   ],
   "metadata": {
    "collapsed": false,
    "pycharm": {
     "name": "#%%\n"
    }
   }
  },
  {
   "cell_type": "markdown",
   "source": [
    "## 3. Evaluation"
   ],
   "metadata": {
    "collapsed": false,
    "pycharm": {
     "name": "#%% md\n"
    }
   }
  },
  {
   "cell_type": "markdown",
   "source": [
    "### 3.1. Assessing the cross-validation score of each model:"
   ],
   "metadata": {
    "collapsed": false,
    "pycharm": {
     "name": "#%% md\n"
    }
   }
  },
  {
   "cell_type": "code",
   "execution_count": 94,
   "outputs": [
    {
     "name": "stdout",
     "output_type": "stream",
     "text": [
      "logistic:       [0.96470588 0.97647059 0.94117647 0.95294118 1.        ]\n",
      "mean: 0.9670588235294117\n",
      "---\n",
      "xgb:            [0.95294118 0.90588235 0.87647059 0.91764706 0.91176471]\n",
      "mean: 0.9129411764705881\n",
      "---\n",
      "tree:           [0.92352941 0.87647059 0.90588235 0.90588235 0.93529412]\n",
      "mean: 0.9094117647058824\n",
      "---\n",
      "random forest:  [0.94705882 0.88235294 0.87647059 0.92941176 0.95294118]\n",
      "mean: 0.9176470588235295\n",
      "---\n"
     ]
    }
   ],
   "source": [
    "from sklearn.model_selection import cross_val_score\n",
    "import numpy as np\n",
    "\n",
    "score_logistic = cross_val_score(logistic_regressor, X_train_preprocessed, y_train)\n",
    "score_xgb = cross_val_score(xgb_classifier, X_train_preprocessed, y_train)\n",
    "score_tree = cross_val_score(tree_classifier, X_train_preprocessed, y_train)\n",
    "score_random_forest = cross_val_score(random_forest_classifier, X_train_preprocessed, y_train)\n",
    "\n",
    "print(f\"logistic:       {score_logistic}\\n\"\n",
    "      f\"mean: {np.mean(score_logistic)}\\n\"\n",
    "      f\"---\")\n",
    "print(f\"xgb:            {score_xgb}\\n\"\n",
    "      f\"mean: {np.mean(score_xgb)}\\n\"\n",
    "      f\"---\")\n",
    "print(f\"tree:           {score_tree}\\n\"\n",
    "      f\"mean: {np.mean(score_tree)}\\n\"\n",
    "      f\"---\")\n",
    "print(f\"random forest:  {score_random_forest}\\n\"\n",
    "      f\"mean: {np.mean(score_random_forest)}\\n\"\n",
    "      f\"---\")"
   ],
   "metadata": {
    "collapsed": false,
    "pycharm": {
     "name": "#%%\n"
    }
   }
  },
  {
   "cell_type": "markdown",
   "source": [
    "It seems as though the best performing classifier, though not by a significant margin, is the logistic regressor. Given that this is a fairly simple and straightforward binary classification problem, it doesn't seem unlikely."
   ],
   "metadata": {
    "collapsed": false,
    "pycharm": {
     "name": "#%% md\n"
    }
   }
  },
  {
   "cell_type": "markdown",
   "source": [
    "### 3.2. Assessing the confusion matrix for each model:"
   ],
   "metadata": {
    "collapsed": false,
    "pycharm": {
     "name": "#%% md\n"
    }
   }
  },
  {
   "cell_type": "code",
   "execution_count": 95,
   "outputs": [
    {
     "data": {
      "text/plain": "array([[184,   1],\n       [  7, 106]], dtype=int64)"
     },
     "execution_count": 95,
     "metadata": {},
     "output_type": "execute_result"
    }
   ],
   "source": [
    "from sklearn.model_selection import train_test_split\n",
    "from sklearn.metrics import confusion_matrix\n",
    "\n",
    "X_train_split, X_valid_split, y_train_split, y_valid_split = train_test_split(X_train_preprocessed, y_train, test_size=0.35)\n",
    "logistic_regressor = LogisticRegression(random_state=0).fit(X_train_split, y_train_split)\n",
    "y_preds = logistic_regressor.predict(X_valid_split)\n",
    "\n",
    "confusion_matrix(y_valid_split, y_preds)"
   ],
   "metadata": {
    "collapsed": false,
    "pycharm": {
     "name": "#%%\n"
    }
   }
  },
  {
   "cell_type": "markdown",
   "source": [
    "Satisfied with the result, we select the *logistic regressor* as our candidate for predicting the test set."
   ],
   "metadata": {
    "collapsed": false,
    "pycharm": {
     "name": "#%% md\n"
    }
   }
  },
  {
   "cell_type": "markdown",
   "source": [
    "## 4. Prediction"
   ],
   "metadata": {
    "collapsed": false,
    "pycharm": {
     "name": "#%% md\n"
    }
   }
  },
  {
   "cell_type": "code",
   "execution_count": 96,
   "outputs": [],
   "source": [
    "logistic_regressor = LogisticRegression(random_state=0).fit(X_train_preprocessed, y_train)\n",
    "y_preds_submission = logistic_regressor.predict(X_test_preprocessed)\n",
    "\n",
    "submission = pd.DataFrame({\n",
    "    'passenger_id': X_test['passenger_id'],\n",
    "    'survived': y_preds_submission\n",
    "})"
   ],
   "metadata": {
    "collapsed": false,
    "pycharm": {
     "name": "#%%\n"
    }
   }
  }
 ],
 "metadata": {
  "kernelspec": {
   "display_name": "Python 3",
   "language": "python",
   "name": "python3"
  },
  "language_info": {
   "codemirror_mode": {
    "name": "ipython",
    "version": 2
   },
   "file_extension": ".py",
   "mimetype": "text/x-python",
   "name": "python",
   "nbconvert_exporter": "python",
   "pygments_lexer": "ipython2",
   "version": "2.7.6"
  }
 },
 "nbformat": 4,
 "nbformat_minor": 0
}