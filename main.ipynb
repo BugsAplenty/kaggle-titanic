{
 "cells": [
  {
   "cell_type": "markdown",
   "source": [
    "# Titanic - A Kaggle Submission\n",
    "## By Michael Neiman"
   ],
   "metadata": {
    "collapsed": false,
    "pycharm": {
     "name": "#%% md\n"
    }
   }
  },
  {
   "cell_type": "markdown",
   "source": [
    "## Data Import:"
   ],
   "metadata": {
    "collapsed": false,
    "pycharm": {
     "name": "#%% md\n"
    }
   }
  },
  {
   "cell_type": "code",
   "execution_count": 16,
   "outputs": [],
   "source": [
    "import pandas as pd\n",
    "\n",
    "X_test = pd.read_csv('titanic_test.csv', header=0)\n",
    "X_train = pd.read_csv('titanic_train.csv', header=0)"
   ],
   "metadata": {
    "collapsed": false,
    "pycharm": {
     "name": "#%%\n"
    }
   }
  },
  {
   "cell_type": "markdown",
   "source": [
    "## 1. Data Preprocessing"
   ],
   "metadata": {
    "collapsed": false,
    "pycharm": {
     "name": "#%% md\n"
    }
   }
  },
  {
   "cell_type": "code",
   "execution_count": 17,
   "outputs": [],
   "source": [
    "# Create copies of the data:\n",
    "X_train_preprocessed = X_train.copy()\n",
    "X_test_preprocessed = X_test.copy()"
   ],
   "metadata": {
    "collapsed": false,
    "pycharm": {
     "name": "#%%\n"
    }
   }
  },
  {
   "cell_type": "markdown",
   "source": [
    "### 1.1. Parsing data columns:\n",
    "\n",
    "The \"cabin\" column is actually comprised of two pieces of data which may be relevant - The deck and the cabin number. In some cases there seem to be multiple numbers for one passenger. In such cases I will average the cabin numbers, as they tend to be close to one another."
   ],
   "metadata": {
    "collapsed": false,
    "pycharm": {
     "name": "#%% md\n"
    }
   }
  },
  {
   "cell_type": "code",
   "execution_count": 22,
   "outputs": [
    {
     "ename": "KeyboardInterrupt",
     "evalue": "",
     "output_type": "error",
     "traceback": [
      "\u001B[1;31m---------------------------------------------------------------------------\u001B[0m",
      "\u001B[1;31mKeyboardInterrupt\u001B[0m                         Traceback (most recent call last)",
      "Input \u001B[1;32mIn [22]\u001B[0m, in \u001B[0;36m<cell line: 16>\u001B[1;34m()\u001B[0m\n\u001B[0;32m     13\u001B[0m     data[[\u001B[38;5;124m'\u001B[39m\u001B[38;5;124mdeck\u001B[39m\u001B[38;5;124m'\u001B[39m, \u001B[38;5;124m'\u001B[39m\u001B[38;5;124mcabin_number\u001B[39m\u001B[38;5;124m'\u001B[39m]] \u001B[38;5;241m=\u001B[39m cabins_data\n\u001B[0;32m     14\u001B[0m     \u001B[38;5;28;01mdel\u001B[39;00m data[\u001B[38;5;124m'\u001B[39m\u001B[38;5;124mcabin\u001B[39m\u001B[38;5;124m'\u001B[39m]\n\u001B[1;32m---> 16\u001B[0m X_train_preprocessed \u001B[38;5;241m=\u001B[39m \u001B[43mget_deck_and_cabin_number\u001B[49m\u001B[43m(\u001B[49m\u001B[43mX_train_preprocessed\u001B[49m\u001B[43m)\u001B[49m\n\u001B[0;32m     17\u001B[0m X_test_preprocessed \u001B[38;5;241m=\u001B[39m get_deck_and_cabin_number(X_test_preprocessed)\n\u001B[0;32m     18\u001B[0m X_train_preprocessed\u001B[38;5;241m.\u001B[39mhead()\n",
      "Input \u001B[1;32mIn [22]\u001B[0m, in \u001B[0;36mget_deck_and_cabin_number\u001B[1;34m(data)\u001B[0m\n\u001B[0;32m     10\u001B[0m     cabin_data[[\u001B[38;5;124m'\u001B[39m\u001B[38;5;124mdeck\u001B[39m\u001B[38;5;124m'\u001B[39m, \u001B[38;5;124m'\u001B[39m\u001B[38;5;124mnumber\u001B[39m\u001B[38;5;124m'\u001B[39m]]\u001B[38;5;241m=\u001B[39m possible_cabins\u001B[38;5;241m.\u001B[39mloc[:, idx]\u001B[38;5;241m.\u001B[39mstr\u001B[38;5;241m.\u001B[39mextract(\u001B[38;5;124m'\u001B[39m\u001B[38;5;124m([a-zA-Z]+)([^a-zA-Z]+)\u001B[39m\u001B[38;5;124m'\u001B[39m, expand \u001B[38;5;241m=\u001B[39m \u001B[38;5;28;01mTrue\u001B[39;00m)\n\u001B[0;32m     11\u001B[0m     cabins_data \u001B[38;5;241m=\u001B[39m pd\u001B[38;5;241m.\u001B[39mconcat([cabins_data, cabin_data], axis\u001B[38;5;241m=\u001B[39m\u001B[38;5;241m1\u001B[39m)\n\u001B[1;32m---> 12\u001B[0m cabins_data \u001B[38;5;241m=\u001B[39m \u001B[43mmean_of_identically_named_columns\u001B[49m\u001B[43m(\u001B[49m\u001B[43mcabins_data\u001B[49m\u001B[43m)\u001B[49m\n\u001B[0;32m     13\u001B[0m data[[\u001B[38;5;124m'\u001B[39m\u001B[38;5;124mdeck\u001B[39m\u001B[38;5;124m'\u001B[39m, \u001B[38;5;124m'\u001B[39m\u001B[38;5;124mcabin_number\u001B[39m\u001B[38;5;124m'\u001B[39m]] \u001B[38;5;241m=\u001B[39m cabins_data\n\u001B[0;32m     14\u001B[0m \u001B[38;5;28;01mdel\u001B[39;00m data[\u001B[38;5;124m'\u001B[39m\u001B[38;5;124mcabin\u001B[39m\u001B[38;5;124m'\u001B[39m]\n",
      "Input \u001B[1;32mIn [22]\u001B[0m, in \u001B[0;36mmean_of_identically_named_columns\u001B[1;34m(df)\u001B[0m\n\u001B[0;32m      1\u001B[0m \u001B[38;5;28;01mdef\u001B[39;00m \u001B[38;5;21mmean_of_identically_named_columns\u001B[39m(df: pd\u001B[38;5;241m.\u001B[39mDataFrame):\n\u001B[0;32m      2\u001B[0m     \u001B[38;5;28;01mimport\u001B[39;00m \u001B[38;5;21;01mnumbers\u001B[39;00m\n\u001B[1;32m----> 3\u001B[0m     \u001B[38;5;28;01mreturn\u001B[39;00m \u001B[43mdf\u001B[49m\u001B[38;5;241m.\u001B[39mgroupby(by\u001B[38;5;241m=\u001B[39mdf\u001B[38;5;241m.\u001B[39mcolumns, axis\u001B[38;5;241m=\u001B[39m\u001B[38;5;241m1\u001B[39m)\u001B[38;5;241m.\u001B[39mapply(\u001B[38;5;28;01mlambda\u001B[39;00m g: g\u001B[38;5;241m.\u001B[39mmean(axis\u001B[38;5;241m=\u001B[39m\u001B[38;5;241m1\u001B[39m) \u001B[38;5;28;01mif\u001B[39;00m \u001B[38;5;28misinstance\u001B[39m(g\u001B[38;5;241m.\u001B[39miloc[\u001B[38;5;241m0\u001B[39m,\u001B[38;5;241m0\u001B[39m], numbers\u001B[38;5;241m.\u001B[39mNumber) \u001B[38;5;28;01melse\u001B[39;00m g\u001B[38;5;241m.\u001B[39miloc[:,\u001B[38;5;241m0\u001B[39m])\n",
      "Input \u001B[1;32mIn [22]\u001B[0m, in \u001B[0;36mmean_of_identically_named_columns\u001B[1;34m(df)\u001B[0m\n\u001B[0;32m      1\u001B[0m \u001B[38;5;28;01mdef\u001B[39;00m \u001B[38;5;21mmean_of_identically_named_columns\u001B[39m(df: pd\u001B[38;5;241m.\u001B[39mDataFrame):\n\u001B[0;32m      2\u001B[0m     \u001B[38;5;28;01mimport\u001B[39;00m \u001B[38;5;21;01mnumbers\u001B[39;00m\n\u001B[1;32m----> 3\u001B[0m     \u001B[38;5;28;01mreturn\u001B[39;00m \u001B[43mdf\u001B[49m\u001B[38;5;241m.\u001B[39mgroupby(by\u001B[38;5;241m=\u001B[39mdf\u001B[38;5;241m.\u001B[39mcolumns, axis\u001B[38;5;241m=\u001B[39m\u001B[38;5;241m1\u001B[39m)\u001B[38;5;241m.\u001B[39mapply(\u001B[38;5;28;01mlambda\u001B[39;00m g: g\u001B[38;5;241m.\u001B[39mmean(axis\u001B[38;5;241m=\u001B[39m\u001B[38;5;241m1\u001B[39m) \u001B[38;5;28;01mif\u001B[39;00m \u001B[38;5;28misinstance\u001B[39m(g\u001B[38;5;241m.\u001B[39miloc[\u001B[38;5;241m0\u001B[39m,\u001B[38;5;241m0\u001B[39m], numbers\u001B[38;5;241m.\u001B[39mNumber) \u001B[38;5;28;01melse\u001B[39;00m g\u001B[38;5;241m.\u001B[39miloc[:,\u001B[38;5;241m0\u001B[39m])\n",
      "File \u001B[1;32m_pydevd_bundle\\pydevd_cython_win32_310_64.pyx:1179\u001B[0m, in \u001B[0;36m_pydevd_bundle.pydevd_cython_win32_310_64.SafeCallWrapper.__call__\u001B[1;34m()\u001B[0m\n",
      "File \u001B[1;32m_pydevd_bundle\\pydevd_cython_win32_310_64.pyx:620\u001B[0m, in \u001B[0;36m_pydevd_bundle.pydevd_cython_win32_310_64.PyDBFrame.trace_dispatch\u001B[1;34m()\u001B[0m\n",
      "File \u001B[1;32m_pydevd_bundle\\pydevd_cython_win32_310_64.pyx:1095\u001B[0m, in \u001B[0;36m_pydevd_bundle.pydevd_cython_win32_310_64.PyDBFrame.trace_dispatch\u001B[1;34m()\u001B[0m\n",
      "File \u001B[1;32m_pydevd_bundle\\pydevd_cython_win32_310_64.pyx:1053\u001B[0m, in \u001B[0;36m_pydevd_bundle.pydevd_cython_win32_310_64.PyDBFrame.trace_dispatch\u001B[1;34m()\u001B[0m\n",
      "File \u001B[1;32mC:\\Program Files\\JetBrains\\PyCharm 2021.3.3\\plugins\\python\\helpers-pro\\jupyter_debug\\pydev_jupyter_plugin.py:169\u001B[0m, in \u001B[0;36mstop\u001B[1;34m(plugin, pydb, frame, event, args, stop_info, arg, step_cmd)\u001B[0m\n\u001B[0;32m    167\u001B[0m     frame \u001B[38;5;241m=\u001B[39m suspend_jupyter(main_debugger, thread, frame, step_cmd)\n\u001B[0;32m    168\u001B[0m     \u001B[38;5;28;01mif\u001B[39;00m frame:\n\u001B[1;32m--> 169\u001B[0m         \u001B[43mmain_debugger\u001B[49m\u001B[38;5;241;43m.\u001B[39;49m\u001B[43mdo_wait_suspend\u001B[49m\u001B[43m(\u001B[49m\u001B[43mthread\u001B[49m\u001B[43m,\u001B[49m\u001B[43m \u001B[49m\u001B[43mframe\u001B[49m\u001B[43m,\u001B[49m\u001B[43m \u001B[49m\u001B[43mevent\u001B[49m\u001B[43m,\u001B[49m\u001B[43m \u001B[49m\u001B[43marg\u001B[49m\u001B[43m)\u001B[49m\n\u001B[0;32m    170\u001B[0m         \u001B[38;5;28;01mreturn\u001B[39;00m \u001B[38;5;28;01mTrue\u001B[39;00m\n\u001B[0;32m    171\u001B[0m \u001B[38;5;28;01mreturn\u001B[39;00m \u001B[38;5;28;01mFalse\u001B[39;00m\n",
      "File \u001B[1;32mC:\\Program Files\\JetBrains\\PyCharm 2021.3.3\\plugins\\python\\helpers\\pydev\\pydevd.py:1160\u001B[0m, in \u001B[0;36mPyDB.do_wait_suspend\u001B[1;34m(self, thread, frame, event, arg, send_suspend_message, is_unhandled_exception)\u001B[0m\n\u001B[0;32m   1157\u001B[0m         from_this_thread\u001B[38;5;241m.\u001B[39mappend(frame_id)\n\u001B[0;32m   1159\u001B[0m \u001B[38;5;28;01mwith\u001B[39;00m \u001B[38;5;28mself\u001B[39m\u001B[38;5;241m.\u001B[39m_threads_suspended_single_notification\u001B[38;5;241m.\u001B[39mnotify_thread_suspended(thread_id, stop_reason):\n\u001B[1;32m-> 1160\u001B[0m     \u001B[38;5;28;43mself\u001B[39;49m\u001B[38;5;241;43m.\u001B[39;49m\u001B[43m_do_wait_suspend\u001B[49m\u001B[43m(\u001B[49m\u001B[43mthread\u001B[49m\u001B[43m,\u001B[49m\u001B[43m \u001B[49m\u001B[43mframe\u001B[49m\u001B[43m,\u001B[49m\u001B[43m \u001B[49m\u001B[43mevent\u001B[49m\u001B[43m,\u001B[49m\u001B[43m \u001B[49m\u001B[43marg\u001B[49m\u001B[43m,\u001B[49m\u001B[43m \u001B[49m\u001B[43msuspend_type\u001B[49m\u001B[43m,\u001B[49m\u001B[43m \u001B[49m\u001B[43mfrom_this_thread\u001B[49m\u001B[43m)\u001B[49m\n",
      "File \u001B[1;32mC:\\Program Files\\JetBrains\\PyCharm 2021.3.3\\plugins\\python\\helpers\\pydev\\pydevd.py:1175\u001B[0m, in \u001B[0;36mPyDB._do_wait_suspend\u001B[1;34m(self, thread, frame, event, arg, suspend_type, from_this_thread)\u001B[0m\n\u001B[0;32m   1172\u001B[0m             \u001B[38;5;28mself\u001B[39m\u001B[38;5;241m.\u001B[39m_call_mpl_hook()\n\u001B[0;32m   1174\u001B[0m         \u001B[38;5;28mself\u001B[39m\u001B[38;5;241m.\u001B[39mprocess_internal_commands()\n\u001B[1;32m-> 1175\u001B[0m         \u001B[43mtime\u001B[49m\u001B[38;5;241;43m.\u001B[39;49m\u001B[43msleep\u001B[49m\u001B[43m(\u001B[49m\u001B[38;5;241;43m0.01\u001B[39;49m\u001B[43m)\u001B[49m\n\u001B[0;32m   1177\u001B[0m \u001B[38;5;28mself\u001B[39m\u001B[38;5;241m.\u001B[39mcancel_async_evaluation(get_current_thread_id(thread), \u001B[38;5;28mstr\u001B[39m(\u001B[38;5;28mid\u001B[39m(frame)))\n\u001B[0;32m   1179\u001B[0m \u001B[38;5;66;03m# process any stepping instructions\u001B[39;00m\n",
      "\u001B[1;31mKeyboardInterrupt\u001B[0m: "
     ]
    }
   ],
   "source": [
    "from sklearn.preprocessing import OrdinalEncoder\n",
    "ordinal_encoder = OrdinalEncoder()\n",
    "\n",
    "def mean_of_identically_named_columns(df: pd.DataFrame):\n",
    "    import numbers\n",
    "    return df.groupby(by=df.columns, axis=1).apply(lambda g: g.mean(axis=1) if isinstance(g.iloc[0,0], numbers.Number) else g.iloc[:,0])\n",
    "\n",
    "def encode_decks(cabin_data: pd.DataFrame):\n",
    "    if ordinal_encoder.categories:\n",
    "        cabin_data = ordinal_encoder.transform(cabin_data['deck'])\n",
    "    else:\n",
    "        cabin_data = ordinal_encoder.fit_transform(cabin_data['deck'])\n",
    "    return cabin_data\n",
    "\n",
    "def get_deck_and_cabin_number(data: pd.DataFrame):\n",
    "    possible_cabins = data['cabin'].str.split(\" \", expand = True)\n",
    "    cabins_data = pd.DataFrame()\n",
    "    cabin_data = pd.DataFrame()\n",
    "    for data, idx in enumerate(possible_cabins):\n",
    "        cabin_data[['deck', 'number']] = possible_cabins.loc[:, idx].str.extract('([a-zA-Z]+)([^a-zA-Z]+)', expand = True)\n",
    "        cabin_data = encode_decks(cabin_data)\n",
    "        cabin_data['number'] = cabin_data['number'].astype(float)\n",
    "        cabins_data = pd.concat([cabins_data, cabin_data], axis=1)\n",
    "    cabins_data = mean_of_identically_named_columns(cabins_data)\n",
    "    data[['deck', 'cabin_number']] = cabins_data\n",
    "    del data['cabin']\n",
    "\n",
    "X_train_preprocessed = get_deck_and_cabin_number(X_train_preprocessed)\n",
    "X_test_preprocessed = get_deck_and_cabin_number(X_test_preprocessed)\n",
    "X_train_preprocessed.head()"
   ],
   "metadata": {
    "collapsed": false,
    "pycharm": {
     "name": "#%%\n"
    }
   }
  },
  {
   "cell_type": "markdown",
   "source": [
    "### 2. Encoding Categorical values:"
   ],
   "metadata": {
    "collapsed": false,
    "pycharm": {
     "name": "#%% md\n"
    }
   }
  },
  {
   "cell_type": "markdown",
   "source": [],
   "metadata": {
    "collapsed": false,
    "pycharm": {
     "name": "#%% md\n"
    }
   }
  },
  {
   "cell_type": "code",
   "execution_count": null,
   "outputs": [],
   "source": [
    "# Ordinal encoding for the port of embarkation data:\n",
    "\n",
    "cols_ordinal = ['embarked']\n",
    "X_train_preprocessed['embarked'] = ordinal_encoder.fit_transform(X_train['embarked'])\n",
    "X_test_preprocessed['embarked'] = ordinal_encoder.transform(X_test['embarked'])"
   ],
   "metadata": {
    "collapsed": false,
    "pycharm": {
     "name": "#%%\n"
    }
   }
  }
 ],
 "metadata": {
  "kernelspec": {
   "display_name": "Python 3",
   "language": "python",
   "name": "python3"
  },
  "language_info": {
   "codemirror_mode": {
    "name": "ipython",
    "version": 2
   },
   "file_extension": ".py",
   "mimetype": "text/x-python",
   "name": "python",
   "nbconvert_exporter": "python",
   "pygments_lexer": "ipython2",
   "version": "2.7.6"
  }
 },
 "nbformat": 4,
 "nbformat_minor": 0
}